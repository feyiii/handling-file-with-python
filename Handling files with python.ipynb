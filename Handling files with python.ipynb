{
 "cells": [
  {
   "cell_type": "code",
   "execution_count": 17,
   "id": "eb9621e4",
   "metadata": {},
   "outputs": [
    {
     "name": "stdout",
     "output_type": "stream",
     "text": [
      "blue\n",
      "white\n",
      "red\n",
      "yellow\n",
      "black\n",
      "orange\n",
      "pink\n",
      "green\n",
      "\n"
     ]
    }
   ],
   "source": [
    "# Write a Python program to read an entire text file.\n",
    "\n",
    "def my_file(fname):\n",
    "    txt = open(fname)\n",
    "    print(txt.read())\n",
    "    \n",
    "my_file('my_file.txt')    "
   ]
  },
  {
   "cell_type": "code",
   "execution_count": 21,
   "id": "f31c2172",
   "metadata": {},
   "outputs": [
    {
     "name": "stdout",
     "output_type": "stream",
     "text": [
      "blue\n",
      "\n",
      "white\n",
      "\n",
      "red\n",
      "\n"
     ]
    }
   ],
   "source": [
    "# Write a Python program to read first n lines of a file.\n",
    "\n",
    "def file_read_from_head(fname, nlines):\n",
    "         from itertools import islice\n",
    "         with open(fname) as f:\n",
    "            for line in islice(f, nlines):\n",
    "                 print(line)\n",
    "\n",
    "file_read_from_head('my_file.txt',3)            "
   ]
  },
  {
   "cell_type": "code",
   "execution_count": 28,
   "id": "3cd21662",
   "metadata": {},
   "outputs": [
    {
     "name": "stdout",
     "output_type": "stream",
     "text": [
      "orange\n",
      "\n",
      "pink\n",
      "\n",
      "green\n",
      "\n"
     ]
    }
   ],
   "source": [
    "# Write a Python program to read last n lines of a file\n",
    "\n",
    "def read_lastnlines(fname,n):\n",
    "    with open('my_file.txt') as f:\n",
    "        for line in (f.readlines() [-n:]):\n",
    "                     print(line)\n",
    "                     \n",
    "read_lastnlines('my_file.txt', 3)                     "
   ]
  },
  {
   "cell_type": "code",
   "execution_count": 36,
   "id": "3739924c",
   "metadata": {},
   "outputs": [
    {
     "name": "stdout",
     "output_type": "stream",
     "text": [
      "2\n"
     ]
    }
   ],
   "source": [
    "# Write a Python program that takes a text file as input and returns the number of words of a given text file.\n",
    "\n",
    "def count_words(filepath):\n",
    "    with open(filepath) as f:\n",
    "        data = f.read()\n",
    "        data.replace(\",\", \" \")\n",
    "        return len(data.split(\" \"))\n",
    "print(count_words(\"my_file.txt\"))"
   ]
  },
  {
   "cell_type": "code",
   "execution_count": 38,
   "id": "8379b14c",
   "metadata": {},
   "outputs": [
    {
     "name": "stdout",
     "output_type": "stream",
     "text": [
      "orange voilet\n",
      "\n",
      "pink\n",
      "\n",
      "green\n",
      "\n"
     ]
    }
   ],
   "source": [
    "# (bonus) Write a Python program to read last n lines of a file\n",
    "\n",
    "def read_lastnlines(fname,n):\n",
    "    with open('my_file.txt') as f:\n",
    "        for line in (f.readlines() [-n:]):\n",
    "                     print(line)\n",
    "                     \n",
    "read_lastnlines('my_file.txt', 3)"
   ]
  }
 ],
 "metadata": {
  "kernelspec": {
   "display_name": "Python 3 (ipykernel)",
   "language": "python",
   "name": "python3"
  },
  "language_info": {
   "codemirror_mode": {
    "name": "ipython",
    "version": 3
   },
   "file_extension": ".py",
   "mimetype": "text/x-python",
   "name": "python",
   "nbconvert_exporter": "python",
   "pygments_lexer": "ipython3",
   "version": "3.9.7"
  }
 },
 "nbformat": 4,
 "nbformat_minor": 5
}
